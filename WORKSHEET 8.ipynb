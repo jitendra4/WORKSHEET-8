{
 "cells": [
  {
   "cell_type": "markdown",
   "id": "7959a551",
   "metadata": {},
   "source": [
    "# MACHINE LEATRNING ASSIGNMENTS 8"
   ]
  },
  {
   "cell_type": "code",
   "execution_count": 45,
   "id": "df291dbe",
   "metadata": {},
   "outputs": [],
   "source": [
    "#1.\n",
    "#Ans.C"
   ]
  },
  {
   "cell_type": "code",
   "execution_count": 46,
   "id": "9f888122",
   "metadata": {},
   "outputs": [],
   "source": [
    "#2.\n",
    "#Ans. A"
   ]
  },
  {
   "cell_type": "code",
   "execution_count": 47,
   "id": "30fe248e",
   "metadata": {},
   "outputs": [],
   "source": [
    "#3\n",
    "#Ans. C"
   ]
  },
  {
   "cell_type": "code",
   "execution_count": 48,
   "id": "9d6aee3b",
   "metadata": {},
   "outputs": [],
   "source": [
    "#4.\n",
    "#Ans. C"
   ]
  },
  {
   "cell_type": "code",
   "execution_count": 49,
   "id": "3e485a8d",
   "metadata": {},
   "outputs": [],
   "source": [
    "#5.\n",
    "#Ans.D"
   ]
  },
  {
   "cell_type": "code",
   "execution_count": 50,
   "id": "2d95e08e",
   "metadata": {},
   "outputs": [],
   "source": [
    "#6.\n",
    "#Ans. A"
   ]
  },
  {
   "cell_type": "code",
   "execution_count": 51,
   "id": "94899314",
   "metadata": {},
   "outputs": [],
   "source": [
    "#7. \n",
    "#Ans. C"
   ]
  },
  {
   "cell_type": "code",
   "execution_count": 52,
   "id": "baeaef5e",
   "metadata": {},
   "outputs": [],
   "source": [
    "#8.\n",
    "#Ans. C, D"
   ]
  },
  {
   "cell_type": "code",
   "execution_count": 53,
   "id": "5a03a33f",
   "metadata": {},
   "outputs": [],
   "source": [
    "#9.\n",
    "#Ans.C D"
   ]
  },
  {
   "cell_type": "code",
   "execution_count": 54,
   "id": "08ca9a13",
   "metadata": {},
   "outputs": [],
   "source": [
    "#10.\n",
    "#Ans. A, C"
   ]
  },
  {
   "cell_type": "code",
   "execution_count": 55,
   "id": "c2de8085",
   "metadata": {},
   "outputs": [],
   "source": [
    "#11\n",
    "#Ans.This means that categorical data must be converted to a numerical form. ... In this case, a one-hot encoding can be applied to the integer representation. ... Bring Modern Data Preparation Techniques to ... Do I need to scale these one hot encoded variables also to avoid this issue "
   ]
  },
  {
   "cell_type": "code",
   "execution_count": 56,
   "id": "5545fb02",
   "metadata": {},
   "outputs": [],
   "source": [
    "#12.\n",
    "#Ans.Dealing with imbalanced datasets entails strategies such as improving classification algorithms or balancing classes in the training data (data preprocessing) before providing the data as input to the machine learning algorithm. The later technique is preferred as it has wider application"
   ]
  },
  {
   "cell_type": "code",
   "execution_count": 57,
   "id": "29a8fe6c",
   "metadata": {},
   "outputs": [],
   "source": [
    "#13.\n",
    "#Ans.The key difference between ADASYN and SMOTE is that the former uses a density distribution, as a criterion to automatically decide the number of synthetic samples that must be generated for each minority sample by adaptively changing the weights of the different minority samples to compensate for the skewed"
   ]
  },
  {
   "cell_type": "code",
   "execution_count": 58,
   "id": "dbbc7118",
   "metadata": {},
   "outputs": [],
   "source": [
    "#14.\n",
    "#Ans.GridSearchCV tries all the combinations of the values passed in the dictionary and evaluates the model for each combination using the Cross-Validation method. Hence after using this function we get accuracy/loss for every combination of hyperparameters and we can choose the one with the best performance."
   ]
  },
  {
   "cell_type": "code",
   "execution_count": 59,
   "id": "8d4babf0",
   "metadata": {},
   "outputs": [],
   "source": [
    "#15.\n",
    "#Ans.There are three error metrics that are commonly used for evaluating and reporting the performance of a regression model; they are:\n",
    "#Mean Squared Error (MSE).\n",
    "#Root Mean Squared Error (RMSE).\n",
    "#Mean Absolute Error (MAE)"
   ]
  },
  {
   "cell_type": "markdown",
   "id": "7a9b3fae",
   "metadata": {},
   "source": [
    "# PYTHON WORLSHEET "
   ]
  },
  {
   "cell_type": "code",
   "execution_count": 61,
   "id": "f0c1948b",
   "metadata": {},
   "outputs": [],
   "source": [
    "#1.\n",
    "#Ans. C"
   ]
  },
  {
   "cell_type": "code",
   "execution_count": 62,
   "id": "75faab13",
   "metadata": {},
   "outputs": [],
   "source": [
    "#2.\n",
    "#Ans. B"
   ]
  },
  {
   "cell_type": "code",
   "execution_count": 64,
   "id": "c53802b0",
   "metadata": {},
   "outputs": [],
   "source": [
    "#3.\n",
    "#Ans. C"
   ]
  },
  {
   "cell_type": "code",
   "execution_count": 66,
   "id": "5f35c12d",
   "metadata": {},
   "outputs": [],
   "source": [
    "#4.\n",
    "#Ans. A"
   ]
  },
  {
   "cell_type": "code",
   "execution_count": 68,
   "id": "7270a793",
   "metadata": {},
   "outputs": [],
   "source": [
    "#5.\n",
    "#Ans. D"
   ]
  },
  {
   "cell_type": "code",
   "execution_count": 69,
   "id": "c2b7cb79",
   "metadata": {},
   "outputs": [],
   "source": [
    "#6.\n",
    "#Ans. C"
   ]
  },
  {
   "cell_type": "code",
   "execution_count": 70,
   "id": "f78815b5",
   "metadata": {},
   "outputs": [],
   "source": [
    "#7.\n",
    "#Ans. A"
   ]
  },
  {
   "cell_type": "code",
   "execution_count": 71,
   "id": "d9ca08f0",
   "metadata": {},
   "outputs": [],
   "source": [
    "#8.\n",
    "#Ans.C"
   ]
  },
  {
   "cell_type": "code",
   "execution_count": 73,
   "id": "c71bfffa",
   "metadata": {},
   "outputs": [],
   "source": [
    "#9.\n",
    "#Ans.B,C"
   ]
  },
  {
   "cell_type": "code",
   "execution_count": 74,
   "id": "4f7523a2",
   "metadata": {},
   "outputs": [],
   "source": [
    "#10.\n",
    "#Ans. A"
   ]
  },
  {
   "cell_type": "code",
   "execution_count": 32,
   "id": "49beb5a6",
   "metadata": {},
   "outputs": [],
   "source": [
    "#11\n",
    "#Ans.\n",
    "num = int(input(\"enter a number: \"))\n",
    "fac = 1.\n",
    "i = 1.\n",
    "while i <= num:\n",
    "fac = fac * i.\n",
    "i = i + 1.\n",
    "print(\"factorial of \", num, \" is \", fac)"
   ]
  },
  {
   "cell_type": "code",
   "execution_count": 33,
   "id": "4dd9dca1",
   "metadata": {},
   "outputs": [],
   "source": [
    "#12\n",
    "#Ans.\n",
    "num = int(input(\"Enter a number: \"))\n",
    "if num > 1:\n",
    "for i in range(2,num):\n",
    "if (num % i) == 0:\n",
    "print(num,\"is not a prime number\")\n",
    "print(i,\"times\",num//i,\"is\",num)\n",
    "break.\n",
    "else"
   ]
  },
  {
   "cell_type": "code",
   "execution_count": 76,
   "id": "06e5239a",
   "metadata": {},
   "outputs": [],
   "source": [
    "#13\n",
    "#Ans.Given a string, write a python function to check if it is palindrome or not. A string is said to be palindrome if the reverse of the string is the same as string. For example, “radar” is a palindrome, but “radix” is not a palindrome.\n"
   ]
  },
  {
   "cell_type": "code",
   "execution_count": 77,
   "id": "19576469",
   "metadata": {},
   "outputs": [],
   "source": [
    "#14.\n",
    "#Ans.The Pythagorean Theorem, a2+b2=c2, a 2 + b 2 = c 2 , can be used to find the length of any side of a right triangle.\n",
    "#The side opposite the right angle is called the hypotenuse (side c in the figure)."
   ]
  },
  {
   "cell_type": "code",
   "execution_count": 36,
   "id": "1d2435ba",
   "metadata": {},
   "outputs": [],
   "source": [
    "#15.\n",
    "#Ans.string=input(\"Enter the string \")\n",
    "freq=[None]*len(string)\n",
    "for i in range(0,len(string)):\n",
    "freq[i]=1.\n",
    "for j in range(i+1,len(string)):\n",
    "if(string[i]==string[j]):\n",
    "freq[i]=freq[i]+1.\n",
    "string=string[:j]+'0'+string[j+1:];"
   ]
  },
  {
   "cell_type": "markdown",
   "id": "715cdf32",
   "metadata": {},
   "source": [
    "# STATISTICS WORKSHEET 8"
   ]
  },
  {
   "cell_type": "code",
   "execution_count": 78,
   "id": "965654ad",
   "metadata": {},
   "outputs": [],
   "source": [
    "#1.\n",
    "#Ans. A"
   ]
  },
  {
   "cell_type": "code",
   "execution_count": 79,
   "id": "111d3250",
   "metadata": {},
   "outputs": [],
   "source": [
    "#2\n",
    "#Ans. B"
   ]
  },
  {
   "cell_type": "code",
   "execution_count": 40,
   "id": "de8b9e8a",
   "metadata": {},
   "outputs": [],
   "source": [
    "#3.\n",
    "#Ans. D"
   ]
  },
  {
   "cell_type": "code",
   "execution_count": 41,
   "id": "d22d2492",
   "metadata": {},
   "outputs": [],
   "source": [
    "#4.\n",
    "#Ans.A"
   ]
  },
  {
   "cell_type": "code",
   "execution_count": 42,
   "id": "3d9e600d",
   "metadata": {},
   "outputs": [],
   "source": [
    "#5.\n",
    "#Ans.A"
   ]
  },
  {
   "cell_type": "code",
   "execution_count": 43,
   "id": "9fceceb1",
   "metadata": {},
   "outputs": [],
   "source": [
    "#6.\n",
    "#Ans. D"
   ]
  },
  {
   "cell_type": "code",
   "execution_count": 44,
   "id": "2e8937f6",
   "metadata": {},
   "outputs": [],
   "source": [
    "#7.\n",
    "#Ans. C"
   ]
  },
  {
   "cell_type": "code",
   "execution_count": 80,
   "id": "81e54d9e",
   "metadata": {},
   "outputs": [],
   "source": [
    "#8. \n",
    "#Ans.C"
   ]
  },
  {
   "cell_type": "code",
   "execution_count": 81,
   "id": "14a44adc",
   "metadata": {},
   "outputs": [],
   "source": [
    "#9.\n",
    "#Ans.C"
   ]
  },
  {
   "cell_type": "code",
   "execution_count": 82,
   "id": "b4c70819",
   "metadata": {},
   "outputs": [],
   "source": [
    "#10.\n",
    "#Ans. D"
   ]
  },
  {
   "cell_type": "code",
   "execution_count": 83,
   "id": "ffe1af13",
   "metadata": {},
   "outputs": [],
   "source": [
    "#11.\n",
    "#Ans.A"
   ]
  },
  {
   "cell_type": "code",
   "execution_count": 84,
   "id": "23f48b3b",
   "metadata": {},
   "outputs": [],
   "source": [
    "#12.\n",
    "#Ans.D"
   ]
  },
  {
   "cell_type": "code",
   "execution_count": 85,
   "id": "6a566a84",
   "metadata": {},
   "outputs": [],
   "source": [
    "#13.\n",
    "#Ans.Statistical Analysis. Analysis of Variance, i.e. ANOVA in SPSS, is used for examining the differences in the mean values of the dependent variable associated with the effect of the controlled independent variables, after taking into account the influence of the uncontrolled independent variables."
   ]
  },
  {
   "cell_type": "code",
   "execution_count": 86,
   "id": "d46663a5",
   "metadata": {},
   "outputs": [],
   "source": [
    "#14.\n",
    "#Ans.The factorial ANOVA has a several assumptions that need to be fulfilled – (1) interval data of the dependent variable, (2) normality, (3) homoscedasticity, and (4) no multicollinearity."
   ]
  },
  {
   "cell_type": "code",
   "execution_count": 87,
   "id": "f98d27d2",
   "metadata": {},
   "outputs": [],
   "source": [
    "#15.\n",
    "#Ans.The only difference between one-way and two-way ANOVA is the number of independent variables. A one-way ANOVA has one independent variable, while a two-way ANOVA has two."
   ]
  },
  {
   "cell_type": "code",
   "execution_count": null,
   "id": "82093de4",
   "metadata": {},
   "outputs": [],
   "source": []
  }
 ],
 "metadata": {
  "kernelspec": {
   "display_name": "Python 3",
   "language": "python",
   "name": "python3"
  },
  "language_info": {
   "codemirror_mode": {
    "name": "ipython",
    "version": 3
   },
   "file_extension": ".py",
   "mimetype": "text/x-python",
   "name": "python",
   "nbconvert_exporter": "python",
   "pygments_lexer": "ipython3",
   "version": "3.8.8"
  }
 },
 "nbformat": 4,
 "nbformat_minor": 5
}
